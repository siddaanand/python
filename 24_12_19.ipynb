{
  "nbformat": 4,
  "nbformat_minor": 0,
  "metadata": {
    "colab": {
      "name": "24-12-19.ipynb",
      "provenance": [],
      "collapsed_sections": [],
      "include_colab_link": true
    },
    "kernelspec": {
      "name": "python3",
      "display_name": "Python 3"
    }
  },
  "cells": [
    {
      "cell_type": "markdown",
      "metadata": {
        "id": "view-in-github",
        "colab_type": "text"
      },
      "source": [
        "<a href=\"https://colab.research.google.com/github/siddaanand/python/blob/master/24_12_19.ipynb\" target=\"_parent\"><img src=\"https://colab.research.google.com/assets/colab-badge.svg\" alt=\"Open In Colab\"/></a>"
      ]
    },
    {
      "cell_type": "markdown",
      "metadata": {
        "id": "Nj8XJYYJDpoK",
        "colab_type": "text"
      },
      "source": [
        "# Markdown\n",
        "## Markdown\n",
        "### Markdown\n",
        "#### Markdown\n"
      ]
    },
    {
      "cell_type": "markdown",
      "metadata": {
        "id": "Di18kLn3Gad9",
        "colab_type": "text"
      },
      "source": [
        "**Markdown**\n",
        "*Markdown* "
      ]
    },
    {
      "cell_type": "markdown",
      "metadata": {
        "id": "Fse_9WG2HPd8",
        "colab_type": "text"
      },
      "source": [
        "## Insert Image\n",
        "![text](https://www.sciencealert.com/images/2019-03/processed/unsplash_waterfall_rainbow_crop_600.jpg)"
      ]
    },
    {
      "cell_type": "markdown",
      "metadata": {
        "id": "wESnFhA-IcSU",
        "colab_type": "text"
      },
      "source": [
        "# Insert site\n",
        "[site](https://www.gitam.edu/)"
      ]
    },
    {
      "cell_type": "markdown",
      "metadata": {
        "id": "uUciGOOaI2il",
        "colab_type": "text"
      },
      "source": [
        "# Python\n",
        "- python is esay to learn\n",
        "- python is more popular and demand\n",
        "- python is used in data science"
      ]
    },
    {
      "cell_type": "code",
      "metadata": {
        "id": "1XYTZ2pNLdax",
        "colab_type": "code",
        "outputId": "da1116eb-976d-41aa-f925-8243fc04ece3",
        "colab": {
          "base_uri": "https://localhost:8080/",
          "height": 34
        }
      },
      "source": [
        "print(\"hello world\")"
      ],
      "execution_count": 0,
      "outputs": [
        {
          "output_type": "stream",
          "text": [
            "hello world\n"
          ],
          "name": "stdout"
        }
      ]
    },
    {
      "cell_type": "markdown",
      "metadata": {
        "id": "weU6BazCLKs9",
        "colab_type": "text"
      },
      "source": [
        "# Assignment\n"
      ]
    },
    {
      "cell_type": "code",
      "metadata": {
        "id": "2vQO2D_fLV08",
        "colab_type": "code",
        "outputId": "0aa77492-efdd-46e1-fc92-484da75cc0c0",
        "colab": {
          "base_uri": "https://localhost:8080/",
          "height": 34
        }
      },
      "source": [
        "x=12\n",
        "y=18\n",
        "print(x,y)"
      ],
      "execution_count": 0,
      "outputs": [
        {
          "output_type": "stream",
          "text": [
            "12 18\n"
          ],
          "name": "stdout"
        }
      ]
    },
    {
      "cell_type": "code",
      "metadata": {
        "id": "gZjxiXWxL8Ez",
        "colab_type": "code",
        "outputId": "10e8cab8-863b-4365-8a61-3bd1010df949",
        "colab": {
          "base_uri": "https://localhost:8080/",
          "height": 68
        }
      },
      "source": [
        "a=b=c=20\n",
        "print(a,b,c)\n",
        "print(a+b+c)\n",
        "print(a-b-c)"
      ],
      "execution_count": 0,
      "outputs": [
        {
          "output_type": "stream",
          "text": [
            "20 20 20\n",
            "60\n",
            "-20\n"
          ],
          "name": "stdout"
        }
      ]
    },
    {
      "cell_type": "code",
      "metadata": {
        "id": "Np1hkdtYMhui",
        "colab_type": "code",
        "outputId": "0be00cef-a7d3-4704-8bde-0ad051999fd2",
        "colab": {
          "base_uri": "https://localhost:8080/",
          "height": 34
        }
      },
      "source": [
        "a1,b1,c1=100,200,300\n",
        "print(a1,b1,c1)"
      ],
      "execution_count": 0,
      "outputs": [
        {
          "output_type": "stream",
          "text": [
            "100 200 300\n"
          ],
          "name": "stdout"
        }
      ]
    },
    {
      "cell_type": "markdown",
      "metadata": {
        "id": "-pmZST_DM5XN",
        "colab_type": "text"
      },
      "source": [
        "# Data types and conversions\n",
        "- int\n",
        "- float\n",
        "- string\n",
        "- complex\n",
        "- boolean"
      ]
    },
    {
      "cell_type": "code",
      "metadata": {
        "id": "KvbyO3KgM9s2",
        "colab_type": "code",
        "outputId": "c6478ef2-6625-426b-b740-c624db45bbca",
        "colab": {
          "base_uri": "https://localhost:8080/",
          "height": 34
        }
      },
      "source": [
        "x=10\n",
        "y=12.56\n",
        "z=3+5j\n",
        "print(type(x),type(y),type(z))"
      ],
      "execution_count": 0,
      "outputs": [
        {
          "output_type": "stream",
          "text": [
            "<class 'int'> <class 'float'> <class 'complex'>\n"
          ],
          "name": "stdout"
        }
      ]
    },
    {
      "cell_type": "code",
      "metadata": {
        "id": "h4iAzm79Nf25",
        "colab_type": "code",
        "outputId": "8c80f1c8-f8ff-44be-fe0a-2dcd5b9ca7dc",
        "colab": {
          "base_uri": "https://localhost:8080/",
          "height": 34
        }
      },
      "source": [
        "# boolean\n",
        "x=4\n",
        "y=10\n",
        "x<y"
      ],
      "execution_count": 0,
      "outputs": [
        {
          "output_type": "execute_result",
          "data": {
            "text/plain": [
              "True"
            ]
          },
          "metadata": {
            "tags": []
          },
          "execution_count": 12
        }
      ]
    },
    {
      "cell_type": "code",
      "metadata": {
        "id": "bC34jLrYOpHt",
        "colab_type": "code",
        "outputId": "1a549e51-bba2-47f3-85fc-c00c1bff7e46",
        "colab": {
          "base_uri": "https://localhost:8080/",
          "height": 51
        }
      },
      "source": [
        "# string\n",
        "s1=\"abc\"\n",
        "s2=\"xyz\"\n",
        "print(type(s1))\n",
        "print(type(s2))"
      ],
      "execution_count": 0,
      "outputs": [
        {
          "output_type": "stream",
          "text": [
            "<class 'str'>\n",
            "<class 'str'>\n"
          ],
          "name": "stdout"
        }
      ]
    },
    {
      "cell_type": "code",
      "metadata": {
        "id": "8l3Y6EHQPCmJ",
        "colab_type": "code",
        "outputId": "06d985cc-b843-4dc3-9649-38bc791f42b9",
        "colab": {
          "base_uri": "https://localhost:8080/",
          "height": 68
        }
      },
      "source": [
        "i=100\n",
        "print(type(i))\n",
        "s1=str(i)\n",
        "print(type(s1))\n",
        "f=float(i)\n",
        "print(type(f))"
      ],
      "execution_count": 0,
      "outputs": [
        {
          "output_type": "stream",
          "text": [
            "<class 'int'>\n",
            "<class 'str'>\n",
            "<class 'float'>\n"
          ],
          "name": "stdout"
        }
      ]
    },
    {
      "cell_type": "code",
      "metadata": {
        "id": "QyI3coiWQJcB",
        "colab_type": "code",
        "outputId": "5e485439-af53-4fef-b52f-405be21eedff",
        "colab": {
          "base_uri": "https://localhost:8080/",
          "height": 34
        }
      },
      "source": [
        "c=complex(3,9)\n",
        "print(c)"
      ],
      "execution_count": 0,
      "outputs": [
        {
          "output_type": "stream",
          "text": [
            "(3+9j)\n"
          ],
          "name": "stdout"
        }
      ]
    },
    {
      "cell_type": "markdown",
      "metadata": {
        "id": "hw4xpiKEQ_TS",
        "colab_type": "text"
      },
      "source": [
        "# Reading a value ---Input function"
      ]
    },
    {
      "cell_type": "code",
      "metadata": {
        "id": "Rw9-sJ69RFy9",
        "colab_type": "code",
        "outputId": "08efed50-d05a-4381-bc82-04ab98611003",
        "colab": {
          "base_uri": "https://localhost:8080/",
          "height": 68
        }
      },
      "source": [
        "s=input(\"enter name: \")\n",
        "print(s)\n",
        "print(type(s))"
      ],
      "execution_count": 0,
      "outputs": [
        {
          "output_type": "stream",
          "text": [
            "enter name: karthik\n",
            "karthik\n",
            "<class 'str'>\n"
          ],
          "name": "stdout"
        }
      ]
    },
    {
      "cell_type": "code",
      "metadata": {
        "id": "Ps7NTAwKRTA9",
        "colab_type": "code",
        "outputId": "6c66730f-6846-4db6-99d1-1f21acf8ef8b",
        "colab": {
          "base_uri": "https://localhost:8080/",
          "height": 68
        }
      },
      "source": [
        "a=int(input(\"enter age\"))\n",
        "print(a)\n",
        "print(type(a))"
      ],
      "execution_count": 0,
      "outputs": [
        {
          "output_type": "stream",
          "text": [
            "enter age19\n",
            "19\n",
            "<class 'int'>\n"
          ],
          "name": "stdout"
        }
      ]
    },
    {
      "cell_type": "markdown",
      "metadata": {
        "id": "jseQh2puSa2q",
        "colab_type": "text"
      },
      "source": [
        "# Operators\n",
        "- These symbols are used to perform a specific kind of operations"
      ]
    },
    {
      "cell_type": "markdown",
      "metadata": {
        "id": "o9k9-g4YSwbq",
        "colab_type": "text"
      },
      "source": [
        "# Aritehmatic Operator\n",
        "- +\n",
        "- -\n",
        "- *\n",
        "- %\n",
        "- /\n",
        "- //\n",
        "- **"
      ]
    },
    {
      "cell_type": "code",
      "metadata": {
        "id": "645d3OLcTEZe",
        "colab_type": "code",
        "outputId": "d3ce68b2-584a-4748-99db-8dd4be492996",
        "colab": {
          "base_uri": "https://localhost:8080/",
          "height": 136
        }
      },
      "source": [
        "n1=123\n",
        "print(n1+10)\n",
        "print(n1-10)\n",
        "print(n1*10)\n",
        "print(n1%10)\n",
        "print(n1/10)\n",
        "print(n1//10)\n",
        "print(n1**10)\n"
      ],
      "execution_count": 0,
      "outputs": [
        {
          "output_type": "stream",
          "text": [
            "133\n",
            "113\n",
            "1230\n",
            "3\n",
            "12.3\n",
            "12\n",
            "792594609605189126649\n"
          ],
          "name": "stdout"
        }
      ]
    },
    {
      "cell_type": "markdown",
      "metadata": {
        "id": "T452GymaUXv5",
        "colab_type": "text"
      },
      "source": [
        "# Precedence of Arth operators\n",
        "- paranthesis\n",
        "- power\n",
        "- multiplication\n",
        "- division\n",
        "- addition"
      ]
    },
    {
      "cell_type": "code",
      "metadata": {
        "id": "Gf93uCw6UnvF",
        "colab_type": "code",
        "outputId": "f0a39959-705e-4a91-a8fa-8fb25cb2f06e",
        "colab": {
          "base_uri": "https://localhost:8080/",
          "height": 34
        }
      },
      "source": [
        "x = 1 + 2 ** 3 / 4 + 5\n",
        "print(x)"
      ],
      "execution_count": 0,
      "outputs": [
        {
          "output_type": "stream",
          "text": [
            "8.0\n"
          ],
          "name": "stdout"
        }
      ]
    },
    {
      "cell_type": "code",
      "metadata": {
        "id": "WpuKcMIXVUu0",
        "colab_type": "code",
        "outputId": "e62fb543-7d89-40a4-d92c-b4550d6a3fe6",
        "colab": {
          "base_uri": "https://localhost:8080/",
          "height": 34
        }
      },
      "source": [
        "x = 1 + 2 ** 3 / 4 * 5\n",
        "print(x)"
      ],
      "execution_count": 0,
      "outputs": [
        {
          "output_type": "stream",
          "text": [
            "11.0\n"
          ],
          "name": "stdout"
        }
      ]
    },
    {
      "cell_type": "code",
      "metadata": {
        "id": "T06Gk09UWCvB",
        "colab_type": "code",
        "outputId": "91586699-29fe-4d9f-b7c0-b94d4e304b60",
        "colab": {
          "base_uri": "https://localhost:8080/",
          "height": 34
        }
      },
      "source": [
        "x = 1 + 2 ** 3 // 4 * 5\n",
        "print(x)"
      ],
      "execution_count": 0,
      "outputs": [
        {
          "output_type": "stream",
          "text": [
            "11\n"
          ],
          "name": "stdout"
        }
      ]
    },
    {
      "cell_type": "markdown",
      "metadata": {
        "id": "app9OC6LW9yC",
        "colab_type": "text"
      },
      "source": [
        "# Relational operators\n",
        "- ==,!=,<,>,<=,>="
      ]
    },
    {
      "cell_type": "code",
      "metadata": {
        "id": "8-fQFUTSXQw2",
        "colab_type": "code",
        "outputId": "d26597b4-cc38-4175-bde0-9050e89a2212",
        "colab": {
          "base_uri": "https://localhost:8080/",
          "height": 34
        }
      },
      "source": [
        "a=10\n",
        "a1=a>15\n",
        "print(a1)"
      ],
      "execution_count": 0,
      "outputs": [
        {
          "output_type": "stream",
          "text": [
            "False\n"
          ],
          "name": "stdout"
        }
      ]
    },
    {
      "cell_type": "markdown",
      "metadata": {
        "id": "avSV8gSWX2u7",
        "colab_type": "text"
      },
      "source": [
        "# Logical operators"
      ]
    },
    {
      "cell_type": "code",
      "metadata": {
        "id": "0P3c-Om7YIVE",
        "colab_type": "code",
        "outputId": "ae44bddc-8263-4604-e227-f9dd72ef62c1",
        "colab": {
          "base_uri": "https://localhost:8080/",
          "height": 68
        }
      },
      "source": [
        "x=20\n",
        "y=30\n",
        "print(x>10 and x<=20)\n",
        "print(x>10 or x<=20)\n",
        "print(not x)\n"
      ],
      "execution_count": 0,
      "outputs": [
        {
          "output_type": "stream",
          "text": [
            "True\n",
            "True\n",
            "False\n"
          ],
          "name": "stdout"
        }
      ]
    },
    {
      "cell_type": "markdown",
      "metadata": {
        "id": "Qt6BRkXvY6dJ",
        "colab_type": "text"
      },
      "source": [
        "# Membership operator\n"
      ]
    },
    {
      "cell_type": "code",
      "metadata": {
        "id": "gRSCbafsZCLa",
        "colab_type": "code",
        "outputId": "93dea4ad-9630-428a-cc76-251de499ae4f",
        "colab": {
          "base_uri": "https://localhost:8080/",
          "height": 51
        }
      },
      "source": [
        "str1=\"abc\"\n",
        "print('a' in str1)\n",
        "print('a' not in str1)"
      ],
      "execution_count": 0,
      "outputs": [
        {
          "output_type": "stream",
          "text": [
            "True\n",
            "False\n"
          ],
          "name": "stdout"
        }
      ]
    },
    {
      "cell_type": "markdown",
      "metadata": {
        "id": "cjvxGD6iZo2G",
        "colab_type": "text"
      },
      "source": [
        "# Conditional statements\n",
        "## if-else statements\n",
        "### syntax:\n",
        "#### if condition:\n",
        "> statements<br>\n",
        "\n",
        "##### else:\n",
        "> statements"
      ]
    },
    {
      "cell_type": "code",
      "metadata": {
        "id": "AvH2zHhJaNhJ",
        "colab_type": "code",
        "outputId": "d00bb901-a10c-4d4f-b83a-210f65e18f53",
        "colab": {
          "base_uri": "https://localhost:8080/",
          "height": 51
        }
      },
      "source": [
        "# even or odd\n",
        "n =int(input(\"enter a number\"))\n",
        "if n%2==0:\n",
        "      print(\"even number\")\n",
        "else:\n",
        "      print(\"odd number\")"
      ],
      "execution_count": 0,
      "outputs": [
        {
          "output_type": "stream",
          "text": [
            "enter a number6\n",
            "even number\n"
          ],
          "name": "stdout"
        }
      ]
    },
    {
      "cell_type": "code",
      "metadata": {
        "id": "1x3CQSiPbOqD",
        "colab_type": "code",
        "outputId": "566de7a4-c058-4de1-a1ec-fa1a479a5eff",
        "colab": {
          "base_uri": "https://localhost:8080/",
          "height": 51
        }
      },
      "source": [
        "# divisible by 3 and 5\n",
        "n =int(input(\"enter a number\"))\n",
        "if n%3==0 and n%5==0:\n",
        "  print(\"divisible\")\n",
        "else:\n",
        "  print(\"not divisible\")"
      ],
      "execution_count": 0,
      "outputs": [
        {
          "output_type": "stream",
          "text": [
            "enter a number45\n",
            "divisible\n"
          ],
          "name": "stdout"
        }
      ]
    },
    {
      "cell_type": "code",
      "metadata": {
        "id": "Y8OfuauGczsR",
        "colab_type": "code",
        "outputId": "93ac3c28-3389-435b-8728-136359d7704b",
        "colab": {
          "base_uri": "https://localhost:8080/",
          "height": 51
        }
      },
      "source": [
        "# number is p,n,0 \n",
        "n =int(input(\"enter a number\"))\n",
        "if(n>0):\n",
        "  print(\"positive number\")\n",
        "if(n<0):\n",
        "  print(\"negative number\")\n",
        "else:\n",
        "  print(\"zero\")"
      ],
      "execution_count": 0,
      "outputs": [
        {
          "output_type": "stream",
          "text": [
            "enter a number-11\n",
            "negative number\n"
          ],
          "name": "stdout"
        }
      ]
    },
    {
      "cell_type": "code",
      "metadata": {
        "id": "qM7Df6ixeFHb",
        "colab_type": "code",
        "outputId": "c260e4ed-47b6-48c3-c792-b08ea2e3af29",
        "colab": {
          "base_uri": "https://localhost:8080/",
          "height": 51
        }
      },
      "source": [
        "# leap year or not\n",
        "n =int(input(\"enter a year\"))\n",
        "if (n%4==0):\n",
        "  print(\"leap year\")\n",
        "else:\n",
        "  print(\"not a leap year\")\n"
      ],
      "execution_count": 0,
      "outputs": [
        {
          "output_type": "stream",
          "text": [
            "enter a number2020\n",
            "leap year\n"
          ],
          "name": "stdout"
        }
      ]
    },
    {
      "cell_type": "code",
      "metadata": {
        "id": "ldYsFZo2eu3V",
        "colab_type": "code",
        "colab": {}
      },
      "source": [
        ""
      ],
      "execution_count": 0,
      "outputs": []
    }
  ]
}