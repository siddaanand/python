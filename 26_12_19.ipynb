{
  "nbformat": 4,
  "nbformat_minor": 0,
  "metadata": {
    "colab": {
      "name": "26-12-19.ipynb",
      "provenance": [],
      "collapsed_sections": [],
      "include_colab_link": true
    },
    "kernelspec": {
      "name": "python3",
      "display_name": "Python 3"
    }
  },
  "cells": [
    {
      "cell_type": "markdown",
      "metadata": {
        "id": "view-in-github",
        "colab_type": "text"
      },
      "source": [
        "<a href=\"https://colab.research.google.com/github/siddaanand/python/blob/master/26_12_19.ipynb\" target=\"_parent\"><img src=\"https://colab.research.google.com/assets/colab-badge.svg\" alt=\"Open In Colab\"/></a>"
      ]
    },
    {
      "cell_type": "code",
      "metadata": {
        "id": "RvrOYvWbWp3K",
        "colab_type": "code",
        "colab": {}
      },
      "source": [
        "# Find Large Number From Given 3 Numbers"
      ],
      "execution_count": 0,
      "outputs": []
    },
    {
      "cell_type": "code",
      "metadata": {
        "id": "2iUWQ6cxW1ml",
        "colab_type": "code",
        "outputId": "e04ee3d0-6d27-4dbd-8391-cc9cce3f19c3",
        "colab": {
          "base_uri": "https://localhost:8080/",
          "height": 102
        }
      },
      "source": [
        "print(\"enter three numbers\")\n",
        "a=int(input(\"enter a number\"))\n",
        "b=int(input(\"enter a number\"))\n",
        "c=int(input(\"enter a number\"))\n",
        "if a>b:\n",
        "  print(\"a is gretaer\")\n",
        "elif b>c:\n",
        "  print(\"b is greater\")\n",
        "else:\n",
        "  print(\"c is greater\")"
      ],
      "execution_count": 0,
      "outputs": [
        {
          "output_type": "stream",
          "text": [
            "enter three numbers\n",
            "enter a number1\n",
            "enter a number45\n",
            "enter a number7\n",
            "b is greater\n"
          ],
          "name": "stdout"
        }
      ]
    },
    {
      "cell_type": "code",
      "metadata": {
        "id": "83bCxX14Xkys",
        "colab_type": "code",
        "colab": {}
      },
      "source": [
        "#"
      ],
      "execution_count": 0,
      "outputs": []
    },
    {
      "cell_type": "markdown",
      "metadata": {
        "id": "ITFBSoa1Z4dd",
        "colab_type": "text"
      },
      "source": [
        "# While statements:\n",
        "### Syntax\n",
        "##### while Boolean_condition:<br>\n",
        "              statements<br>\n",
        "              Increment / Decrement <br>\n"
      ]
    },
    {
      "cell_type": "code",
      "metadata": {
        "id": "rL5rdbnAaWNn",
        "colab_type": "code",
        "colab": {}
      },
      "source": [
        "print(\"gitam\")\n",
        "print(\"gitam\")\n",
        "print(\"gitam\")\n",
        "print(\"gitam\")\n",
        "print(\"gitam\")\n"
      ],
      "execution_count": 0,
      "outputs": []
    },
    {
      "cell_type": "code",
      "metadata": {
        "id": "J8PqSSYSbHcT",
        "colab_type": "code",
        "outputId": "ae56a568-3133-4f95-f157-874eed59e189",
        "colab": {
          "base_uri": "https://localhost:8080/",
          "height": 102
        }
      },
      "source": [
        " x=0\n",
        " while x<5:\n",
        "     print(\"Gitam\")\n",
        "     x=x+1"
      ],
      "execution_count": 0,
      "outputs": [
        {
          "output_type": "stream",
          "text": [
            "Gitam\n",
            "Gitam\n",
            "Gitam\n",
            "Gitam\n",
            "Gitam\n"
          ],
          "name": "stdout"
        }
      ]
    },
    {
      "cell_type": "code",
      "metadata": {
        "id": "Rc5gvhLXba7s",
        "colab_type": "code",
        "outputId": "aa9dd82d-0039-405a-b2b3-318348f224b1",
        "colab": {
          "base_uri": "https://localhost:8080/",
          "height": 51
        }
      },
      "source": [
        "# print n natural numbers using while loop\n",
        "# input=10\n",
        "# output:1 2 3 4 5 6 7 8 9 10\n",
        "n=int(input(\"enter a number\"))\n",
        "x=1\n",
        "while x<=n:\n",
        "      print(x,end=\" \")\n",
        "      x=x+1"
      ],
      "execution_count": 0,
      "outputs": [
        {
          "output_type": "stream",
          "text": [
            "enter a number10\n",
            "1 2 3 4 5 6 7 8 9 10 "
          ],
          "name": "stdout"
        }
      ]
    },
    {
      "cell_type": "code",
      "metadata": {
        "id": "V6Y4t9Lvgj65",
        "colab_type": "code",
        "outputId": "c6c8b675-6ae8-4402-f64a-412c4bbf6907",
        "colab": {
          "base_uri": "https://localhost:8080/",
          "height": 51
        }
      },
      "source": [
        "#sum of even numbers given\n",
        "n=int(input(\"enter a number\"))\n",
        "x=1\n",
        "sum=0\n",
        "while x<=n:\n",
        "      if x%2==0:\n",
        "        sum=sum+x\n",
        "      x=x+1\n",
        "print(sum)"
      ],
      "execution_count": 0,
      "outputs": [
        {
          "output_type": "stream",
          "text": [
            "enter a number10\n",
            "30\n"
          ],
          "name": "stdout"
        }
      ]
    },
    {
      "cell_type": "code",
      "metadata": {
        "id": "RUKuWPy4hk_E",
        "colab_type": "code",
        "outputId": "2fbfa0eb-69d2-46ab-a562-0a8c4e2baeb1",
        "colab": {
          "base_uri": "https://localhost:8080/",
          "height": 68
        }
      },
      "source": [
        "# palindrome\n",
        "n=int(input(\"enter a number\"))\n",
        "temp=n\n",
        "rev=0\n",
        "while n>0:\n",
        "      p=n%10\n",
        "      rev=rev*10+p\n",
        "      n=n//10\n",
        "if(temp==rev):\n",
        "         print(\"the number is palindrome\")\n",
        "else:\n",
        "      print(\"not a palindrome\")\n",
        "      print(rev)\n"
      ],
      "execution_count": 0,
      "outputs": [
        {
          "output_type": "stream",
          "text": [
            "enter a number123\n",
            "not a palindrome\n",
            "321\n"
          ],
          "name": "stdout"
        }
      ]
    },
    {
      "cell_type": "code",
      "metadata": {
        "id": "F1BZRpC1jdLD",
        "colab_type": "code",
        "colab": {}
      },
      "source": [
        ""
      ],
      "execution_count": 0,
      "outputs": []
    },
    {
      "cell_type": "markdown",
      "metadata": {
        "id": "MegvcKBAk2pt",
        "colab_type": "text"
      },
      "source": [
        "# Functional Programming\n",
        "  - Simple\n",
        "  - Easy to read\n",
        "  - Lengthy program divides into sub programs\n",
        "\n",
        "\n",
        "\n",
        "\n",
        "\n"
      ]
    },
    {
      "cell_type": "code",
      "metadata": {
        "id": "5dYAxYPulDb2",
        "colab_type": "code",
        "colab": {}
      },
      "source": [
        ""
      ],
      "execution_count": 0,
      "outputs": []
    },
    {
      "cell_type": "markdown",
      "metadata": {
        "id": "NXyz4qjtlOv9",
        "colab_type": "text"
      },
      "source": [
        "# Syntax"
      ]
    },
    {
      "cell_type": "code",
      "metadata": {
        "id": "uHgiYKHYlR_G",
        "colab_type": "code",
        "colab": {}
      },
      "source": [
        "def nameofthefunction(<parameters>)\n",
        "    statements\n",
        "    return\n",
        "    "
      ],
      "execution_count": 0,
      "outputs": []
    },
    {
      "cell_type": "code",
      "metadata": {
        "id": "hk9BBCkClg6v",
        "colab_type": "code",
        "outputId": "558168e8-4e05-4db1-e93f-734cb9aacd56",
        "colab": {
          "base_uri": "https://localhost:8080/",
          "height": 34
        }
      },
      "source": [
        "# input: 1234\n",
        "# output:6(2+4)\n",
        "\n",
        "def addevendigit(n):\n",
        "    sum=0\n",
        "    while n!=0:\n",
        "         r=n%10\n",
        "         if r%2==0:\n",
        "           sum=sum+r\n",
        "         n=n//10\n",
        "    return sum\n",
        "addevendigit(123456) "
      ],
      "execution_count": 0,
      "outputs": [
        {
          "output_type": "execute_result",
          "data": {
            "text/plain": [
              "12"
            ]
          },
          "metadata": {
            "tags": []
          },
          "execution_count": 47
        }
      ]
    },
    {
      "cell_type": "code",
      "metadata": {
        "id": "-CcaR31um6xi",
        "colab_type": "code",
        "outputId": "1e2167fc-0077-4448-9439-b438a861a951",
        "colab": {
          "base_uri": "https://localhost:8080/",
          "height": 51
        }
      },
      "source": [
        "# READ INPUT\n",
        "# input:19528\n",
        "# output:9\n",
        "\n",
        "n=int(input(\"enter a number\"))\n",
        "def largestnum(n):\n",
        "    l=0\n",
        "    while n!=0:\n",
        "      r=n%10\n",
        "      if(r>l):\n",
        "        l=r\n",
        "      n=n//10\n",
        "    return l\n",
        "largestnum(n) "
      ],
      "execution_count": 0,
      "outputs": [
        {
          "output_type": "stream",
          "text": [
            "enter a number1254789\n"
          ],
          "name": "stdout"
        },
        {
          "output_type": "execute_result",
          "data": {
            "text/plain": [
              "9"
            ]
          },
          "metadata": {
            "tags": []
          },
          "execution_count": 54
        }
      ]
    },
    {
      "cell_type": "code",
      "metadata": {
        "id": "2TrDu10qrLah",
        "colab_type": "code",
        "outputId": "1274260a-2b82-421f-9d2a-9ff0c167a62d",
        "colab": {
          "base_uri": "https://localhost:8080/",
          "height": 34
        }
      },
      "source": [
        "# print natural numbers using for loop\n",
        "\n",
        "\n",
        "def natural(n):\n",
        "    for i in range(1,n+1):\n",
        "        print(i,end=\" \")\n",
        "natural(10)"
      ],
      "execution_count": 0,
      "outputs": [
        {
          "output_type": "stream",
          "text": [
            "1 2 3 4 5 6 7 8 9 10 "
          ],
          "name": "stdout"
        }
      ]
    },
    {
      "cell_type": "code",
      "metadata": {
        "id": "2BU2e4qo0iRg",
        "colab_type": "code",
        "outputId": "b8375ce4-b9f1-4399-c685-d2857f07189c",
        "colab": {
          "base_uri": "https://localhost:8080/",
          "height": 34
        }
      },
      "source": [
        "def limit(l,b):\n",
        "    for i in range(l,b+1):\n",
        "        print(i,end=\" \")\n",
        "limit(11,17)        "
      ],
      "execution_count": 0,
      "outputs": [
        {
          "output_type": "stream",
          "text": [
            "11 12 13 14 15 16 17 "
          ],
          "name": "stdout"
        }
      ]
    },
    {
      "cell_type": "code",
      "metadata": {
        "id": "CB3YZ2yF1jR8",
        "colab_type": "code",
        "colab": {}
      },
      "source": [
        "\n"
      ],
      "execution_count": 0,
      "outputs": []
    },
    {
      "cell_type": "code",
      "metadata": {
        "colab_type": "code",
        "outputId": "c4e9b399-4140-4159-c2af-f884c583cdc2",
        "id": "1nmQ1o-V2su0",
        "colab": {
          "base_uri": "https://localhost:8080/",
          "height": 34
        }
      },
      "source": [
        "def limit(l,b):\n",
        "    for i in range(l,b+1,3):\n",
        "        print(i,end=\" \")\n",
        "limit(1,10)        "
      ],
      "execution_count": 0,
      "outputs": [
        {
          "output_type": "stream",
          "text": [
            "1 4 7 10 "
          ],
          "name": "stdout"
        }
      ]
    },
    {
      "cell_type": "code",
      "metadata": {
        "id": "bAe5WFR12vaN",
        "colab_type": "code",
        "colab": {}
      },
      "source": [
        "# using function\n",
        "# input :1,10\n",
        "# output:10,9,8......1\n",
        "\n",
        "\n"
      ],
      "execution_count": 0,
      "outputs": []
    },
    {
      "cell_type": "code",
      "metadata": {
        "colab_type": "code",
        "outputId": "c5ac02a9-a082-4f4f-9954-0753e8a75060",
        "id": "CilkwFHx3ZeU",
        "colab": {
          "base_uri": "https://localhost:8080/",
          "height": 34
        }
      },
      "source": [
        "def reverse(start,end):\n",
        "    for i in range(end,start-1,-1):\n",
        "        print(i,end=\" \")\n",
        "reverse(1,10)        "
      ],
      "execution_count": 0,
      "outputs": [
        {
          "output_type": "stream",
          "text": [
            "10 9 8 7 6 5 4 3 2 1 "
          ],
          "name": "stdout"
        }
      ]
    },
    {
      "cell_type": "code",
      "metadata": {
        "id": "7fvVwLoV3dQU",
        "colab_type": "code",
        "colab": {}
      },
      "source": [
        ""
      ],
      "execution_count": 0,
      "outputs": []
    },
    {
      "cell_type": "markdown",
      "metadata": {
        "id": "p49rHvo55tAK",
        "colab_type": "text"
      },
      "source": [
        "# Data Stuctures\n",
        "  - list\n",
        "  - tuple\n",
        "  - dictionary"
      ]
    },
    {
      "cell_type": "code",
      "metadata": {
        "id": "rF6YFFd052PI",
        "colab_type": "code",
        "colab": {}
      },
      "source": [
        ""
      ],
      "execution_count": 0,
      "outputs": []
    },
    {
      "cell_type": "markdown",
      "metadata": {
        "id": "mD2QsHlF6EfE",
        "colab_type": "text"
      },
      "source": [
        "# List\n",
        "  - Its one common data structure in python,the items are seperated bycomma(,) and enclose by square brackets([]).\n",
        "  - crud operations\n",
        "      - c-create\n",
        "      - r-read\n",
        "      - u-update\n",
        "      - d-delete\n",
        "  \n",
        "- list can be changed or immutable\n",
        "\n",
        "# example:\n",
        "  - list=[1,2,3,4]\n"
      ]
    },
    {
      "cell_type": "code",
      "metadata": {
        "id": "bm1JA07I7yew",
        "colab_type": "code",
        "outputId": "7b9f7fbe-e163-4dd5-ce50-1ca162abe2d3",
        "colab": {
          "base_uri": "https://localhost:8080/",
          "height": 34
        }
      },
      "source": [
        "li=[0,1,2,3,4,5]\n",
        "print(li[0])"
      ],
      "execution_count": 0,
      "outputs": [
        {
          "output_type": "stream",
          "text": [
            "0\n"
          ],
          "name": "stdout"
        }
      ]
    },
    {
      "cell_type": "markdown",
      "metadata": {
        "id": "BODJ_E0x56CI",
        "colab_type": "text"
      },
      "source": [
        ""
      ]
    }
  ]
}