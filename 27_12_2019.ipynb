{
  "nbformat": 4,
  "nbformat_minor": 0,
  "metadata": {
    "colab": {
      "name": "27-12-2019.ipynb",
      "provenance": [],
      "collapsed_sections": [],
      "include_colab_link": true
    },
    "kernelspec": {
      "name": "python3",
      "display_name": "Python 3"
    }
  },
  "cells": [
    {
      "cell_type": "markdown",
      "metadata": {
        "id": "view-in-github",
        "colab_type": "text"
      },
      "source": [
        "<a href=\"https://colab.research.google.com/github/siddaanand/python/blob/master/27_12_2019.ipynb\" target=\"_parent\"><img src=\"https://colab.research.google.com/assets/colab-badge.svg\" alt=\"Open In Colab\"/></a>"
      ]
    },
    {
      "cell_type": "code",
      "metadata": {
        "id": "6giXVAOLdYuw",
        "colab_type": "code",
        "colab": {}
      },
      "source": [
        ""
      ],
      "execution_count": 0,
      "outputs": []
    },
    {
      "cell_type": "markdown",
      "metadata": {
        "id": "cYyry6PgeDiK",
        "colab_type": "text"
      },
      "source": [
        "# List Examples\n"
      ]
    },
    {
      "cell_type": "markdown",
      "metadata": {
        "id": "UQ_LQnOoeIZp",
        "colab_type": "text"
      },
      "source": [
        ""
      ]
    },
    {
      "cell_type": "code",
      "metadata": {
        "id": "ycbZmMEleK_x",
        "colab_type": "code",
        "colab": {
          "base_uri": "https://localhost:8080/",
          "height": 102
        },
        "outputId": "b9520ded-8b50-4d81-f05e-afe65cd8611a"
      },
      "source": [
        "li=[\"gitam\",123,124,1323,1323,3451]\n",
        "print(li)\n",
        "print(li[2:])\n",
        "print(li[2:4])\n",
        "print(li[-1])\n",
        "li[-4:-1]\n",
        "li[::-1]\n",
        "li[-1::-1]"
      ],
      "execution_count": 62,
      "outputs": [
        {
          "output_type": "stream",
          "text": [
            "['gitam', 123, 124, 1323, 1323, 3451]\n",
            "[124, 1323, 1323, 3451]\n",
            "[124, 1323]\n",
            "3451\n"
          ],
          "name": "stdout"
        },
        {
          "output_type": "execute_result",
          "data": {
            "text/plain": [
              "[3451, 1323, 1323, 124, 123, 'gitam']"
            ]
          },
          "metadata": {
            "tags": []
          },
          "execution_count": 62
        }
      ]
    },
    {
      "cell_type": "code",
      "metadata": {
        "id": "U2pDpMm3eI0x",
        "colab_type": "code",
        "colab": {
          "base_uri": "https://localhost:8080/",
          "height": 34
        },
        "outputId": "7854de90-8ea8-4571-ca11-aa0670730d77"
      },
      "source": [
        "# Update the list\n",
        "li[1]=\"ajay\"\n",
        "print(li)"
      ],
      "execution_count": 5,
      "outputs": [
        {
          "output_type": "stream",
          "text": [
            "['ajay', 'ajay', 124, 1323, 1323, 3451]\n"
          ],
          "name": "stdout"
        }
      ]
    },
    {
      "cell_type": "code",
      "metadata": {
        "id": "6QcHa3nRehBn",
        "colab_type": "code",
        "colab": {
          "base_uri": "https://localhost:8080/",
          "height": 34
        },
        "outputId": "e2e5596b-97e6-429f-ca33-3235c4b4f89c"
      },
      "source": [
        "li[1]=\"gitam\"\n",
        "print(li)"
      ],
      "execution_count": 8,
      "outputs": [
        {
          "output_type": "stream",
          "text": [
            "['ajay', 'gitam', 124, 1323, 1323, 3451]\n"
          ],
          "name": "stdout"
        }
      ]
    },
    {
      "cell_type": "code",
      "metadata": {
        "id": "e5j-UCf0ex-m",
        "colab_type": "code",
        "colab": {
          "base_uri": "https://localhost:8080/",
          "height": 34
        },
        "outputId": "424823e9-8614-45be-9503-18ae62a6c06d"
      },
      "source": [
        "li[0]=\"New York\"\n",
        "print(li)"
      ],
      "execution_count": 9,
      "outputs": [
        {
          "output_type": "stream",
          "text": [
            "['New York', 'gitam', 124, 1323, 1323, 3451]\n"
          ],
          "name": "stdout"
        }
      ]
    },
    {
      "cell_type": "code",
      "metadata": {
        "id": "2VAX71FGe8tQ",
        "colab_type": "code",
        "colab": {
          "base_uri": "https://localhost:8080/",
          "height": 34
        },
        "outputId": "ad2ad078-dc6e-402b-ae95-73f90760d9a2"
      },
      "source": [
        "li[1]=\"Anand\"\n",
        "print(li)\n"
      ],
      "execution_count": 12,
      "outputs": [
        {
          "output_type": "stream",
          "text": [
            "['New York', 'Anand', 124, 1323, 3451]\n"
          ],
          "name": "stdout"
        }
      ]
    },
    {
      "cell_type": "code",
      "metadata": {
        "id": "yPQXX9GSfBL9",
        "colab_type": "code",
        "colab": {
          "base_uri": "https://localhost:8080/",
          "height": 34
        },
        "outputId": "98b0213d-c0c5-4701-cf8e-3b90d3645a5a"
      },
      "source": [
        "# delete the list\n",
        "\n",
        "del li[3]\n",
        "print(li)"
      ],
      "execution_count": 13,
      "outputs": [
        {
          "output_type": "stream",
          "text": [
            "['New York', 'Anand', 124, 3451]\n"
          ],
          "name": "stdout"
        }
      ]
    },
    {
      "cell_type": "code",
      "metadata": {
        "id": "q9kEgZTSfKS1",
        "colab_type": "code",
        "colab": {}
      },
      "source": [
        "li.insert(2,\"Man.si\")\n"
      ],
      "execution_count": 0,
      "outputs": []
    },
    {
      "cell_type": "code",
      "metadata": {
        "id": "vk_rggYZggz-",
        "colab_type": "code",
        "colab": {
          "base_uri": "https://localhost:8080/",
          "height": 34
        },
        "outputId": "122e6a01-c160-4a59-bffd-4fb9c664d19d"
      },
      "source": [
        "li"
      ],
      "execution_count": 17,
      "outputs": [
        {
          "output_type": "execute_result",
          "data": {
            "text/plain": [
              "['New York', 'Anand', 'Man.si', 124, 3451]"
            ]
          },
          "metadata": {
            "tags": []
          },
          "execution_count": 17
        }
      ]
    },
    {
      "cell_type": "code",
      "metadata": {
        "id": "Voky48XLgizX",
        "colab_type": "code",
        "colab": {}
      },
      "source": [
        "li.remove(\"Man.si\")"
      ],
      "execution_count": 0,
      "outputs": []
    },
    {
      "cell_type": "code",
      "metadata": {
        "id": "jmE532vUguU_",
        "colab_type": "code",
        "colab": {
          "base_uri": "https://localhost:8080/",
          "height": 34
        },
        "outputId": "46ad15a9-5001-4b06-ba38-bc8901fe985d"
      },
      "source": [
        "li"
      ],
      "execution_count": 19,
      "outputs": [
        {
          "output_type": "execute_result",
          "data": {
            "text/plain": [
              "['New York', 'Anand', 124, 3451]"
            ]
          },
          "metadata": {
            "tags": []
          },
          "execution_count": 19
        }
      ]
    },
    {
      "cell_type": "code",
      "metadata": {
        "id": "xLB5h_ppgvFx",
        "colab_type": "code",
        "colab": {
          "base_uri": "https://localhost:8080/",
          "height": 85
        },
        "outputId": "a65f8de8-60ff-45d3-c90b-fefcb0babbe9"
      },
      "source": [
        "li=[1,2,3,4,5]\n",
        "print(len(li))\n",
        "print(li*2)\n",
        "print(5 in li)\n",
        "print(\"o\" in li)"
      ],
      "execution_count": 28,
      "outputs": [
        {
          "output_type": "stream",
          "text": [
            "5\n",
            "[1, 2, 3, 4, 5, 1, 2, 3, 4, 5]\n",
            "True\n",
            "False\n"
          ],
          "name": "stdout"
        }
      ]
    },
    {
      "cell_type": "code",
      "metadata": {
        "id": "_EouEdLfhFeG",
        "colab_type": "code",
        "colab": {}
      },
      "source": [
        ""
      ],
      "execution_count": 0,
      "outputs": []
    },
    {
      "cell_type": "markdown",
      "metadata": {
        "id": "DQvT2qa6hnZ8",
        "colab_type": "text"
      },
      "source": [
        "# Basic List Functions\n"
      ]
    },
    {
      "cell_type": "code",
      "metadata": {
        "id": "WInsT970hspK",
        "colab_type": "code",
        "colab": {
          "base_uri": "https://localhost:8080/",
          "height": 136
        },
        "outputId": "fb103d5c-d86d-4837-e3a7-b3871879f632"
      },
      "source": [
        "li=[1,2,3,4,5,6]\n",
        "print(li)\n",
        "print(max(li))\n",
        "print(min(li))\n",
        "print(sum(li))\n",
        "print(sum(li)/len(li))\n",
        "li.append(29)  # add new items to the end of list\n",
        "print(li)\n",
        "li.insert(2,99) # add new item at specific index\n",
        "print(li)"
      ],
      "execution_count": 41,
      "outputs": [
        {
          "output_type": "stream",
          "text": [
            "[1, 2, 3, 4, 5, 6]\n",
            "6\n",
            "1\n",
            "21\n",
            "3.5\n",
            "[1, 2, 3, 4, 5, 6, 29]\n",
            "[1, 2, 99, 3, 4, 5, 6, 29]\n"
          ],
          "name": "stdout"
        }
      ]
    },
    {
      "cell_type": "code",
      "metadata": {
        "id": "vdfNas1xhvmN",
        "colab_type": "code",
        "colab": {
          "base_uri": "https://localhost:8080/",
          "height": 68
        },
        "outputId": "280d3e3b-5be6-4729-b58e-b91d0af96d15"
      },
      "source": [
        "li=[13,2,388,400,5,6,99]\n",
        "li.sort() # sort list in ascending order\n",
        "print(li)\n",
        "li.pop() # last index will delete\n",
        "print(li)\n",
        "li.pop(1) # remove items from specific index\n",
        "print(li)"
      ],
      "execution_count": 47,
      "outputs": [
        {
          "output_type": "stream",
          "text": [
            "[2, 5, 6, 13, 99, 388, 400]\n",
            "[2, 5, 6, 13, 99, 388]\n",
            "[2, 6, 13, 99, 388]\n"
          ],
          "name": "stdout"
        }
      ]
    },
    {
      "cell_type": "code",
      "metadata": {
        "id": "jrp3kKKmkEHa",
        "colab_type": "code",
        "colab": {}
      },
      "source": [
        ""
      ],
      "execution_count": 0,
      "outputs": []
    },
    {
      "cell_type": "code",
      "metadata": {
        "id": "WQrNLg-ElOmG",
        "colab_type": "code",
        "colab": {}
      },
      "source": [
        ""
      ],
      "execution_count": 0,
      "outputs": []
    },
    {
      "cell_type": "markdown",
      "metadata": {
        "id": "KFan_YJolRfC",
        "colab_type": "text"
      },
      "source": [
        "# Function to return large number from the list"
      ]
    },
    {
      "cell_type": "code",
      "metadata": {
        "id": "nIGdxUbcljY0",
        "colab_type": "code",
        "colab": {
          "base_uri": "https://localhost:8080/",
          "height": 51
        },
        "outputId": "02a40243-0abc-472f-9ff0-a8b80bdb40db"
      },
      "source": [
        "def largenumber(li):\n",
        "    li.sort()\n",
        "    return li[-1]\n",
        "def genericlarge(li,n):# n largest\n",
        "    li.sort()\n",
        "    return li[-n]\n",
        "li=[19,1,3,87,32,21,36]\n",
        "print(largenumber(li))\n",
        "print(genericlarge(li,3))"
      ],
      "execution_count": 52,
      "outputs": [
        {
          "output_type": "stream",
          "text": [
            "87\n",
            "32\n"
          ],
          "name": "stdout"
        }
      ]
    },
    {
      "cell_type": "code",
      "metadata": {
        "id": "PhpLzHVwmojQ",
        "colab_type": "code",
        "colab": {
          "base_uri": "https://localhost:8080/",
          "height": 51
        },
        "outputId": "9c782e0f-a267-4c24-ee77-414e10a88463"
      },
      "source": [
        "def smallnumber(li):\n",
        "    li.sort()\n",
        "    return li[0]\n",
        "def genericsmall(li,n): # n smallest\n",
        "    li.sort()\n",
        "    return li[n-1]\n",
        "li=[19,1,3,87,32,21,36]\n",
        "print(smallnumber(li))\n",
        "print(genericsmall(li,3))"
      ],
      "execution_count": 57,
      "outputs": [
        {
          "output_type": "stream",
          "text": [
            "1\n",
            "19\n"
          ],
          "name": "stdout"
        }
      ]
    },
    {
      "cell_type": "code",
      "metadata": {
        "id": "yPU4d9w8nprw",
        "colab_type": "code",
        "colab": {}
      },
      "source": [
        ""
      ],
      "execution_count": 0,
      "outputs": []
    },
    {
      "cell_type": "markdown",
      "metadata": {
        "id": "eANh6LAop4bE",
        "colab_type": "text"
      },
      "source": [
        "# Tuples\n",
        "  - Values seperated by comma enclosed by paranthesis()\n",
        "  - Values cannot be changed i.e; immutable\n",
        "\n",
        "# Difference b/w list and tuple\n",
        "  - list can be modified\n",
        "  - list is used to acess means modify, add, delete, update\n",
        "  - tuple cannot be modified\n",
        "  - used to acess data only"
      ]
    },
    {
      "cell_type": "code",
      "metadata": {
        "id": "jKC3_OkEqyBT",
        "colab_type": "code",
        "colab": {}
      },
      "source": [
        ""
      ],
      "execution_count": 0,
      "outputs": []
    },
    {
      "cell_type": "code",
      "metadata": {
        "id": "ifrpVchArFt9",
        "colab_type": "code",
        "colab": {
          "base_uri": "https://localhost:8080/",
          "height": 51
        },
        "outputId": "7882a628-2336-47e5-c4f1-49f0c783bf05"
      },
      "source": [
        "t1 =(1,2,3,4,5)\n",
        "print(t1)\n",
        "print(type(t1))"
      ],
      "execution_count": 59,
      "outputs": [
        {
          "output_type": "stream",
          "text": [
            "(1, 2, 3, 4, 5)\n",
            "<class 'tuple'>\n"
          ],
          "name": "stdout"
        }
      ]
    },
    {
      "cell_type": "markdown",
      "metadata": {
        "id": "o0W36yRFqy5b",
        "colab_type": "text"
      },
      "source": [
        ""
      ]
    },
    {
      "cell_type": "markdown",
      "metadata": {
        "id": "AuX6KWOftvNj",
        "colab_type": "text"
      },
      "source": [
        "# Dictionaries\n",
        "  - Works on concept of set unique data\n",
        "  - dictionary contains key and values\n",
        "  - each key is seperated from its values with colon(;)\n",
        "  - each key and values seperated by comma(,)\n",
        "  - dictionary enclosed by {}"
      ]
    },
    {
      "cell_type": "code",
      "metadata": {
        "id": "orupSRAPu2b5",
        "colab_type": "code",
        "colab": {
          "base_uri": "https://localhost:8080/",
          "height": 34
        },
        "outputId": "958f50e0-d156-4433-e7f6-0db8c858c3b3"
      },
      "source": [
        "d1={\"name\":\"Gitam\",\"email\":\"gitam@gmail.com\",\"address\":\"hyderabad\"}\n",
        "print(d1)"
      ],
      "execution_count": 66,
      "outputs": [
        {
          "output_type": "stream",
          "text": [
            "{'name': 'Gitam', 'email': 'gitam@gmail.com', 'address': 'hyderabad'}\n"
          ],
          "name": "stdout"
        }
      ]
    },
    {
      "cell_type": "code",
      "metadata": {
        "id": "-enM73nGv0hG",
        "colab_type": "code",
        "colab": {
          "base_uri": "https://localhost:8080/",
          "height": 34
        },
        "outputId": "2595ce0a-bb83-4fe6-ca8a-133ad388cc43"
      },
      "source": [
        "print(d1[\"name\"])"
      ],
      "execution_count": 67,
      "outputs": [
        {
          "output_type": "stream",
          "text": [
            "Gitam\n"
          ],
          "name": "stdout"
        }
      ]
    },
    {
      "cell_type": "code",
      "metadata": {
        "id": "3LXNEnAfv6Pu",
        "colab_type": "code",
        "colab": {
          "base_uri": "https://localhost:8080/",
          "height": 68
        },
        "outputId": "d1149d95-a8f5-423c-b66d-777a82b4d091"
      },
      "source": [
        "s1=\"python\"\n",
        "print(s1)\n",
        "print(s1[2:])\n",
        "print(s1[2:4])"
      ],
      "execution_count": 70,
      "outputs": [
        {
          "output_type": "stream",
          "text": [
            "python\n",
            "thon\n",
            "th\n"
          ],
          "name": "stdout"
        }
      ]
    },
    {
      "cell_type": "code",
      "metadata": {
        "id": "7ZuKhril1xMK",
        "colab_type": "code",
        "colab": {
          "base_uri": "https://localhost:8080/",
          "height": 68
        },
        "outputId": "44bb7c08-a2ac-4eef-d856-f448e5642be2"
      },
      "source": [
        "s1=\"python\"\n",
        "print(s1[len(s1)//2])\n",
        "print(s1[0:6:3])\n",
        "print(s1[0:6:2])"
      ],
      "execution_count": 74,
      "outputs": [
        {
          "output_type": "stream",
          "text": [
            "h\n",
            "ph\n",
            "pto\n"
          ],
          "name": "stdout"
        }
      ]
    },
    {
      "cell_type": "code",
      "metadata": {
        "id": "0T5riyk02X2m",
        "colab_type": "code",
        "colab": {
          "base_uri": "https://localhost:8080/",
          "height": 34
        },
        "outputId": "d73a65a9-8e1e-46a0-92ba-2c1f71499c7a"
      },
      "source": [
        "# using functuion print reverse of a string\n",
        "\n",
        "def reverseofastring(str):\n",
        "    if str==str[::-1]:\n",
        "      return True\n",
        "    else:\n",
        "      return False\n",
        "      \n",
        "reverseofastring(\"programming\")\n",
        "reverseofastring(\"ganag\")"
      ],
      "execution_count": 99,
      "outputs": [
        {
          "output_type": "execute_result",
          "data": {
            "text/plain": [
              "True"
            ]
          },
          "metadata": {
            "tags": []
          },
          "execution_count": 99
        }
      ]
    },
    {
      "cell_type": "code",
      "metadata": {
        "id": "AaieJ8ql3HNg",
        "colab_type": "code",
        "colab": {
          "base_uri": "https://localhost:8080/",
          "height": 51
        },
        "outputId": "d48a0a78-1ca6-42b2-9edf-42a50c4b417d"
      },
      "source": [
        "n=str(input(\"enter a string:\" ))\n",
        "rev=n[::-1]\n",
        "if n== rev:\n",
        "  print(\"palindrome\")\n",
        "else:\n",
        "  print(\"not a palindrome\")"
      ],
      "execution_count": 89,
      "outputs": [
        {
          "output_type": "stream",
          "text": [
            "enter a string:wow\n",
            "palindrome\n"
          ],
          "name": "stdout"
        }
      ]
    },
    {
      "cell_type": "markdown",
      "metadata": {
        "id": "GwS0u-w062tZ",
        "colab_type": "text"
      },
      "source": [
        "# String build-in methods\n",
        "\n",
        "  - upper()\n",
        "  - lower()\n",
        "  - islower()\n",
        "  - isupper()\n",
        "  - istitle()\n",
        "  - isnumeric()\n",
        "  - isalpha()\n",
        "  - isspace()\n",
        "  "
      ]
    },
    {
      "cell_type": "code",
      "metadata": {
        "id": "KI8pkGpX4dyp",
        "colab_type": "code",
        "colab": {
          "base_uri": "https://localhost:8080/",
          "height": 136
        },
        "outputId": "6ea8cfe6-73dc-4140-d950-ae80d78e7340"
      },
      "source": [
        "s1='Python'\n",
        "print(s1.upper())\n",
        "print(s1.lower())\n",
        "print(s1.isupper())\n",
        "print(s1.islower())\n",
        "print(s1.istitle())\n",
        "print(s1.isnumeric())\n",
        "print(s1.isalpha())\n"
      ],
      "execution_count": 123,
      "outputs": [
        {
          "output_type": "stream",
          "text": [
            "PYTHON\n",
            "python\n",
            "False\n",
            "False\n",
            "True\n",
            "False\n",
            "True\n"
          ],
          "name": "stdout"
        }
      ]
    },
    {
      "cell_type": "code",
      "metadata": {
        "id": "CVhMfDBf7uXy",
        "colab_type": "code",
        "colab": {
          "base_uri": "https://localhost:8080/",
          "height": 34
        },
        "outputId": "bdb09a45-02d7-4f56-a2d6-d4ba26a9b036"
      },
      "source": [
        "s1='    '\n",
        "print(s1.isspace())"
      ],
      "execution_count": 124,
      "outputs": [
        {
          "output_type": "stream",
          "text": [
            "True\n"
          ],
          "name": "stdout"
        }
      ]
    },
    {
      "cell_type": "code",
      "metadata": {
        "id": "Dyrs-Fix892I",
        "colab_type": "code",
        "colab": {}
      },
      "source": [
        ""
      ],
      "execution_count": 0,
      "outputs": []
    },
    {
      "cell_type": "markdown",
      "metadata": {
        "id": "KLIPr0sj_Q2t",
        "colab_type": "text"
      },
      "source": [
        "# String Methods\n",
        "  - join()\n",
        "  - split()\n",
        "  - replace()\n",
        "  "
      ]
    },
    {
      "cell_type": "code",
      "metadata": {
        "id": "HxO2VifV_eav",
        "colab_type": "code",
        "colab": {}
      },
      "source": [
        ""
      ],
      "execution_count": 0,
      "outputs": []
    },
    {
      "cell_type": "code",
      "metadata": {
        "id": "oQ7ZN4A1_e7H",
        "colab_type": "code",
        "colab": {
          "base_uri": "https://localhost:8080/",
          "height": 34
        },
        "outputId": "c63bdc31-b175-43e6-b5ad-01eba8526fb4"
      },
      "source": [
        "s1='python'\n",
        "print(\"$\".join(s1))"
      ],
      "execution_count": 125,
      "outputs": [
        {
          "output_type": "stream",
          "text": [
            "p$y$t$h$o$n\n"
          ],
          "name": "stdout"
        }
      ]
    },
    {
      "cell_type": "code",
      "metadata": {
        "id": "KDca46Wf_yI4",
        "colab_type": "code",
        "colab": {
          "base_uri": "https://localhost:8080/",
          "height": 476
        },
        "outputId": "8099468d-a981-4382-e6d8-03b12bd6810f"
      },
      "source": [
        "s1=\"python is easy to learn\"\n",
        "print(\"^\".join(s1))\n",
        "print(s1.split())\n",
        "print(s1.split())\n",
        "print(s1.replace(\"easy\",\"very easy\"))\n",
        "li=list(s1)\n",
        "li\n"
      ],
      "execution_count": 136,
      "outputs": [
        {
          "output_type": "stream",
          "text": [
            "p^y^t^h^o^n^ ^i^s^ ^e^a^s^y^ ^t^o^ ^l^e^a^r^n\n",
            "['python', 'is', 'easy', 'to', 'learn']\n",
            "['python', 'is', 'easy', 'to', 'learn']\n",
            "python is very easy to learn\n"
          ],
          "name": "stdout"
        },
        {
          "output_type": "execute_result",
          "data": {
            "text/plain": [
              "['p',\n",
              " 'y',\n",
              " 't',\n",
              " 'h',\n",
              " 'o',\n",
              " 'n',\n",
              " ' ',\n",
              " 'i',\n",
              " 's',\n",
              " ' ',\n",
              " 'e',\n",
              " 'a',\n",
              " 's',\n",
              " 'y',\n",
              " ' ',\n",
              " 't',\n",
              " 'o',\n",
              " ' ',\n",
              " 'l',\n",
              " 'e',\n",
              " 'a',\n",
              " 'r',\n",
              " 'n']"
            ]
          },
          "metadata": {
            "tags": []
          },
          "execution_count": 136
        }
      ]
    },
    {
      "cell_type": "code",
      "metadata": {
        "id": "9xqARya4AGX3",
        "colab_type": "code",
        "colab": {}
      },
      "source": [
        "marks={'peter' :[80,85,90],'joe':[86,90,95]}\n",
        "# output:1.[80,85,90]\n",
        "2.85\n",
        "3.86\n",
        "[95,90,86]"
      ],
      "execution_count": 0,
      "outputs": []
    },
    {
      "cell_type": "code",
      "metadata": {
        "id": "3ehQrlQeDFi5",
        "colab_type": "code",
        "colab": {
          "base_uri": "https://localhost:8080/",
          "height": 85
        },
        "outputId": "48da04ab-0be2-45d2-e286-c64300fd1c1b"
      },
      "source": [
        "marks={'peter' :[80,85,90],'joe':[86,90,95]}\n",
        "print(marks['peter'])\n",
        "print(marks[\"peter\"][0])\n",
        "print(marks[\"joe\"][0])\n",
        "print(marks[\"joe\"][::-1])\n"
      ],
      "execution_count": 145,
      "outputs": [
        {
          "output_type": "stream",
          "text": [
            "[80, 85, 90]\n",
            "80\n",
            "86\n",
            "[95, 90, 86]\n"
          ],
          "name": "stdout"
        }
      ]
    },
    {
      "cell_type": "code",
      "metadata": {
        "id": "r8RMEr8KDd0Y",
        "colab_type": "code",
        "colab": {}
      },
      "source": [
        "marks={'peter' :{'math':1,'english':2},'joe':[86,90,95]}"
      ],
      "execution_count": 0,
      "outputs": []
    },
    {
      "cell_type": "code",
      "metadata": {
        "id": "lyqzhOwWFDod",
        "colab_type": "code",
        "colab": {
          "base_uri": "https://localhost:8080/",
          "height": 34
        },
        "outputId": "a35ad2b6-838f-4704-b5f1-3432df1f6e6d"
      },
      "source": [
        "marks={'peter' :{'math':1,'english':2},'joe':[86,90,95]}\n",
        "print(marks['peter']['english'])"
      ],
      "execution_count": 147,
      "outputs": [
        {
          "output_type": "stream",
          "text": [
            "2\n"
          ],
          "name": "stdout"
        }
      ]
    },
    {
      "cell_type": "code",
      "metadata": {
        "id": "k4qQGLHFFPLQ",
        "colab_type": "code",
        "colab": {}
      },
      "source": [
        ""
      ],
      "execution_count": 0,
      "outputs": []
    }
  ]
}